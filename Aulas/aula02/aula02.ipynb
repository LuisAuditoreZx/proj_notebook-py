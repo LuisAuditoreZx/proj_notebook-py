{
  "metadata": {
    "language_info": {
      "codemirror_mode": {
        "name": "python",
        "version": 3
      },
      "file_extension": ".py",
      "mimetype": "text/x-python",
      "name": "python",
      "nbconvert_exporter": "python",
      "pygments_lexer": "ipython3",
      "version": "3.8"
    },
    "kernelspec": {
      "name": "python",
      "display_name": "Python (Pyodide)",
      "language": "python"
    }
  },
  "nbformat_minor": 4,
  "nbformat": 4,
  "cells": [
    {
      "cell_type": "markdown",
      "source": "01- Crie um programa que some dois valores e se for maior que cinco retorne \"maior\" caso contrário \"menor\"\n",
      "metadata": {}
    },
    {
      "cell_type": "code",
      "source": "x = 2\ny = 3\nres = (x+y)\nif(res<=5):\n    print(\"Menor\")\nelse:\n    print(\"Maior\")",
      "metadata": {
        "trusted": true
      },
      "execution_count": 2,
      "outputs": [
        {
          "name": "stdout",
          "text": "Menor\n",
          "output_type": "stream"
        }
      ]
    },
    {
      "cell_type": "markdown",
      "source": "02- Crie um programa que some dois valores e se for maior que cinco retorne \"Maior\", caso igual retorne \"igual\" e caso menor retorne \"menor\"",
      "metadata": {}
    },
    {
      "cell_type": "code",
      "source": "x = 1\ny = 2\nres = (x+y)\nif(res<5):\n    print(\"Menor\")\nelse:\n    if(res==5):\n        print(\"igual\")\n    else:\n        print(\"Maior\")",
      "metadata": {
        "trusted": true
      },
      "execution_count": 5,
      "outputs": [
        {
          "name": "stdout",
          "text": "Menor\n",
          "output_type": "stream"
        }
      ]
    },
    {
      "cell_type": "code",
      "source": "",
      "metadata": {},
      "execution_count": null,
      "outputs": []
    }
  ]
}