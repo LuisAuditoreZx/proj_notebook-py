{
  "metadata": {
    "language_info": {
      "codemirror_mode": {
        "name": "python",
        "version": 3
      },
      "file_extension": ".py",
      "mimetype": "text/x-python",
      "name": "python",
      "nbconvert_exporter": "python",
      "pygments_lexer": "ipython3",
      "version": "3.8"
    },
    "kernelspec": {
      "name": "python",
      "display_name": "Python (Pyodide)",
      "language": "python"
    }
  },
  "nbformat_minor": 4,
  "nbformat": 4,
  "cells": [
    {
      "cell_type": "markdown",
      "source": "01 - Crie uma lista com quatro nomes, quatro endereços e quatro telefones. Mostre a lista de forma formatada",
      "metadata": {}
    },
    {
      "cell_type": "code",
      "source": "nome=[\n    \"Gustavo\",\n    \"Ana Luiza\",\n    \"Carlos\",\n    \"Maria\"\n    ]\nidade=[\n    17,20,50,50\n]\nfone=[\n    \"99940-7070\",\n    \"93729-6060\",\n    \"97425-2020\",\n    \"97242-2034\"\n    ]\nx = 0\nprint(\"{:10}{:<6}{:<0}\".format(\"Nome\",\"Idade\",\"Telefone\"))\nprint(\"--------------------------\")\nwhile(x<=3):\n    print(\"{:<12}{:<4}{:<0}\".format(nome[x],idade[x],fone[x]))\n    x += 1",
      "metadata": {
        "trusted": true
      },
      "execution_count": 13,
      "outputs": [
        {
          "name": "stdout",
          "text": "Nome      Idade Telefone\n--------------------------\nGustavo     17  99940-7070\nAna Luiza   20  93729-6060\nCarlos      50  97425-2020\nMaria       50  97242-2034\n",
          "output_type": "stream"
        }
      ]
    },
    {
      "cell_type": "markdown",
      "source": "02- Crie um programa que mostre três indereços,trêsnúmeros, três n]bairros e três cidades:",
      "metadata": {}
    },
    {
      "cell_type": "code",
      "source": "endereco=[\n    \"Rua João Augusto\",\n    \"Rua Manoel José\",\n    \"Rua XV de Novembro\"\n    ]\nnumero=[\n    78,24,30\n]\nbairro=[\n    \"Nações\",\n    \"Fabri\",\n    \"Saltense\"\n    ]\ncidade=[\n    \"salto\",\n    \"Itu\",\n    \"Indaiatuba\"\n]\nx = 0\nprint(\"|{:20}|{:<8}|{:<10}|{:<0}\".format(\"endereco\",\"numero\",\"bairro\",\"cidade\"))\nprint(\"---------------------|--------|----------|-----------\")\nwhile(x<=2):\n    print(\"|{:<20}|{:<8}|{:<10}|{:<0}\".format(endereco[x],numero[x],bairro[x],cidade[x]))\n    x += 1",
      "metadata": {
        "trusted": true
      },
      "execution_count": 42,
      "outputs": [
        {
          "name": "stdout",
          "text": "|endereco            |numero  |bairro    |cidade\n---------------------|--------|----------|-----------\n|Rua João Augusto    |78      |Nações    |salto\n|Rua Manoel José     |24      |Fabri     |Itu\n|Rua XV de Novembro  |30      |Saltense  |Indaiatuba\n",
          "output_type": "stream"
        }
      ]
    },
    {
      "cell_type": "code",
      "source": "",
      "metadata": {},
      "execution_count": null,
      "outputs": []
    }
  ]
}