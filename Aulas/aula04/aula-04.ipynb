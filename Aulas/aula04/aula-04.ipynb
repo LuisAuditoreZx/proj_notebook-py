{
  "metadata": {
    "language_info": {
      "codemirror_mode": {
        "name": "python",
        "version": 3
      },
      "file_extension": ".py",
      "mimetype": "text/x-python",
      "name": "python",
      "nbconvert_exporter": "python",
      "pygments_lexer": "ipython3",
      "version": "3.8"
    },
    "kernelspec": {
      "name": "python",
      "display_name": "Python (Pyodide)",
      "language": "python"
    }
  },
  "nbformat_minor": 4,
  "nbformat": 4,
  "cells": [
    {
      "cell_type": "markdown",
      "source": "01- Crie um programa que conte de zero até cinco: ",
      "metadata": {}
    },
    {
      "cell_type": "code",
      "source": "x = 0 \nwhile (x<=5):\n    print(x)\n    x +=1",
      "metadata": {
        "trusted": true
      },
      "execution_count": 1,
      "outputs": [
        {
          "name": "stdout",
          "text": "0\n1\n2\n3\n4\n5\n",
          "output_type": "stream"
        }
      ]
    },
    {
      "cell_type": "markdown",
      "source": "02- Crie uma lista com cinco nomes e mostre cada um e seus respectvos números:  ",
      "metadata": {}
    },
    {
      "cell_type": "code",
      "source": "nome =[]\nnome=[\n    \"Gustavo\",\n    \"Carlos\",\n    \"Luis\",\n    \"Ana Maria\",\n    \"Gabriel\"]\nx=0\nwhile(x<=4):\n    print(x,nome[x])\n    x += 1\n    ",
      "metadata": {
        "trusted": true
      },
      "execution_count": 3,
      "outputs": [
        {
          "name": "stdout",
          "text": "0 Gustavo\n1 Carlos\n2 Luis\n3 Ana Maria\n4 Gabriel\n",
          "output_type": "stream"
        }
      ]
    },
    {
      "cell_type": "markdown",
      "source": "03- Crie uma lista com cinco nomes e organize de modoalfabético  mostrando seus respectvos números:  ",
      "metadata": {}
    },
    {
      "cell_type": "code",
      "source": "nome =[]\nnome=[\n    \"Gustavo\",\n    \"Carlos\",\n    \"Luis\",\n    \"Ana Maria\",\n    \"Gabriel\"]\nnome.sort()\nx=0\nwhile(x<=4):\n    print(x,nome[x])\n    x += 1\n    ",
      "metadata": {
        "trusted": true
      },
      "execution_count": 4,
      "outputs": [
        {
          "name": "stdout",
          "text": "0 Ana Maria\n1 Carlos\n2 Gabriel\n3 Gustavo\n4 Luis\n",
          "output_type": "stream"
        }
      ]
    },
    {
      "cell_type": "code",
      "source": "",
      "metadata": {},
      "execution_count": null,
      "outputs": []
    }
  ]
}