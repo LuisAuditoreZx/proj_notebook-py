{
  "metadata": {
    "kernelspec": {
      "name": "python",
      "display_name": "Python (Pyodide)",
      "language": "python"
    },
    "language_info": {
      "codemirror_mode": {
        "name": "python",
        "version": 3
      },
      "file_extension": ".py",
      "mimetype": "text/x-python",
      "name": "python",
      "nbconvert_exporter": "python",
      "pygments_lexer": "ipython3",
      "version": "3.8"
    }
  },
  "nbformat_minor": 5,
  "nbformat": 4,
  "cells": [
    {
      "cell_type": "markdown",
      "source": "01- Crie um programa que receba 2 valores e retorne a soma:",
      "metadata": {},
      "id": "131d3418-d77b-4e77-a17d-65303d19504e"
    },
    {
      "cell_type": "code",
      "source": "x = 2\ny = 2\nres = (x+y)\nprint(res)",
      "metadata": {
        "trusted": true
      },
      "execution_count": 2,
      "outputs": [
        {
          "name": "stdout",
          "text": "4\n",
          "output_type": "stream"
        }
      ],
      "id": "8d44b92f-4f7b-4a59-a53a-e2c93dd7bc64"
    },
    {
      "cell_type": "markdown",
      "source": "02- Crie um programa que receba dois valores e retorne a multiplicação:",
      "metadata": {},
      "id": "0b73b672-430d-4c6b-9561-73caa3f3210f"
    },
    {
      "cell_type": "code",
      "source": "x = 4\ny = 2\nres= (x*y)\nprint(res)",
      "metadata": {
        "trusted": true
      },
      "execution_count": 4,
      "outputs": [
        {
          "name": "stdout",
          "text": "8\n",
          "output_type": "stream"
        }
      ],
      "id": "fbccb997-3f07-4460-8c58-8a94f540f77a"
    },
    {
      "cell_type": "code",
      "source": "",
      "metadata": {},
      "execution_count": null,
      "outputs": [],
      "id": "2840f428-53f6-4de4-a169-1084f399df41"
    }
  ]
}