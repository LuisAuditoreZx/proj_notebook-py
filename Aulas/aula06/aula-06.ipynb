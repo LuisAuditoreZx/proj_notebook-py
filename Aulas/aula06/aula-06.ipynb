{
  "metadata": {
    "language_info": {
      "codemirror_mode": {
        "name": "python",
        "version": 3
      },
      "file_extension": ".py",
      "mimetype": "text/x-python",
      "name": "python",
      "nbconvert_exporter": "python",
      "pygments_lexer": "ipython3",
      "version": "3.8"
    },
    "kernelspec": {
      "name": "python",
      "display_name": "Python (Pyodide)",
      "language": "python"
    }
  },
  "nbformat_minor": 4,
  "nbformat": 4,
  "cells": [
    {
      "cell_type": "markdown",
      "source": "01- Crie um programa que crie um objeto e um construtor com nome pessoa. Adicione em uma lista com quatro pessoas:",
      "metadata": {}
    },
    {
      "cell_type": "code",
      "source": "class pessoa:\n    def __init__(self, nome, idade, cargo, salario):\n        self.nome = nome\n        self.idade = idade\n        self.cargo = cargo\n        self.salario = salario\n\ncadastro = []\n\ncadastro.append(pessoa(\"Gustavo\",50,\"Diretor\",\"R$10.000,00\"))\ncadastro.append(pessoa(\"Carlos\",80,\"Auxiliar\",\"R$1.200,00\"))\ncadastro.append(pessoa(\"Samuel\",40,\"Assistente\",\"R$1.300,00\"))\ncadastro.append(pessoa(\"Enzo\",18,\"Estagiario\",\"R$600,00\"))\ncadastro.append(pessoa(\"Manuel\",18,\"Aux. Adimin\",\"R$1.300,00\"))\n\ncadastro.sort(key=lambda x: x.nome)\n\nfor v in cadastro:\n    print(\"{:<10}{:<4}{:<12}{:<0}\".format(v.nome, v.idade, v.cargo, v.salario))\n\n",
      "metadata": {
        "trusted": true
      },
      "execution_count": 17,
      "outputs": [
        {
          "name": "stdout",
          "text": "Carlos    80  Auxiliar    R$1.200,00\nEnzo      18  Estagiario  R$600,00\nGustavo   50  Diretor     R$10.000,00\nManuel    18  Aux. Adimin R$1.300,00\nSamuel    40  Assistente  R$1.300,00\n",
          "output_type": "stream"
        }
      ]
    },
    {
      "cell_type": "markdown",
      "source": "02 - Crie um programa com uma classe carro onde possua, modelo, marca, ano, placa. Adicione três carros:",
      "metadata": {}
    },
    {
      "cell_type": "code",
      "source": "class carro:\n    def __init__(self, modelo, marca, ano, placa):\n            self.modelo = modelo\n            self.marca = marca\n            self.ano = ano\n            self.placa = placa\n\ncadastro = []\n\ncadastro.append(carro(\"Renegade\",\"Jeep\",\"2018\",\"xrs-3084\"))\ncadastro.append(carro(\"Creta\",\"Hyundai\",\"2020\",\"sef-2346\"))\ncadastro.append(carro(\"Cayanne\",\"Porche\",\"2019\",\"duf-4211\"))\n\ncadastro.sort(key=lambda x: x.modelo)\n\nfor v in cadastro:\n    print(\"{:<10}{:<8}{:<12}{:<0}\".format(v.modelo, v.marca, v.ano, v.placa))\n\n",
      "metadata": {
        "trusted": true
      },
      "execution_count": 27,
      "outputs": [
        {
          "name": "stdout",
          "text": "Cayanne   Porche  2019        duf-4211\nCreta     Hyundai 2020        sef-2346\nRenegade  Jeep    2018        xrs-3084\n",
          "output_type": "stream"
        }
      ]
    },
    {
      "cell_type": "code",
      "source": "",
      "metadata": {},
      "execution_count": null,
      "outputs": []
    }
  ]
}