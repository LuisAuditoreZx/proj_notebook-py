{
  "metadata": {
    "kernelspec": {
      "name": "python",
      "display_name": "Python (Pyodide)",
      "language": "python"
    },
    "language_info": {
      "codemirror_mode": {
        "name": "python",
        "version": 3
      },
      "file_extension": ".py",
      "mimetype": "text/x-python",
      "name": "python",
      "nbconvert_exporter": "python",
      "pygments_lexer": "ipython3",
      "version": "3.8"
    }
  },
  "nbformat_minor": 5,
  "nbformat": 4,
  "cells": [
    {
      "cell_type": "markdown",
      "source": "01- Crie um programa que entre com o valor zero e conte até cinco:",
      "metadata": {},
      "id": "8c546e05-bf78-41cf-8660-427295de050e"
    },
    {
      "cell_type": "code",
      "source": "x = 0\nwhile (x<=5):\n    print(x)\n    x+= 1",
      "metadata": {
        "trusted": true
      },
      "execution_count": 4,
      "outputs": [
        {
          "name": "stdout",
          "text": "0\n1\n2\n3\n4\n5\n",
          "output_type": "stream"
        }
      ],
      "id": "5f5210cc-aa9a-4a7e-8afa-772c4009e320"
    },
    {
      "cell_type": "markdown",
      "source": "02- Crie um programa que guarde cinco nomes e demonstre o numero armazenado:",
      "metadata": {},
      "id": "69e7ea8f-3a6f-434d-8bc2-dc43ac6f5494"
    },
    {
      "cell_type": "code",
      "source": "nome = ['Gustavo','Aline','Murilo','Carlos','Roseli']\nx = 0\nwhile(x<5):\n    print(x,\"-\",nome[x])\n    x+=1\n    ",
      "metadata": {
        "trusted": true
      },
      "execution_count": 2,
      "outputs": [
        {
          "name": "stdout",
          "text": "0 - Gustavo\n1 - Aline\n2 - Murilo\n3 - Carlos\n4 - Roseli\n",
          "output_type": "stream"
        }
      ],
      "id": "eb7c2337-f11a-4e26-9086-f6aba76c53e6"
    },
    {
      "cell_type": "markdown",
      "source": "03- Crie um programa que guarde cinco nomes e cinco idades e demonstre o numero armazanado:",
      "metadata": {},
      "id": "2d452ade-4611-429e-9456-a097692773aa"
    },
    {
      "cell_type": "code",
      "source": "nome = ['Gustavo','Aline','Murilo','Carlos','Roseli']\nidade = ['16','15','13','18','19']\nx=0\nwhile(x<5):\n    print(x,\"-\",nome[x], idade[x], \"anos\")\n    x+=1\n",
      "metadata": {
        "trusted": true
      },
      "execution_count": 6,
      "outputs": [
        {
          "name": "stdout",
          "text": "0 - Gustavo 16 anos\n1 - Aline 15 anos\n2 - Murilo 13 anos\n3 - Carlos 18 anos\n4 - Roseli 19 anos\n",
          "output_type": "stream"
        }
      ],
      "id": "247266fd-49e0-4696-8ca2-98be66eccef6"
    },
    {
      "cell_type": "code",
      "source": "",
      "metadata": {},
      "execution_count": null,
      "outputs": [],
      "id": "289e1d20-27f0-4019-99e1-9d2544baa977"
    }
  ]
}